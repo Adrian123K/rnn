{
 "cells": [
  {
   "cell_type": "markdown",
   "metadata": {},
   "source": [
    "### <b>□ sigmoid 계층과 Cross entropy 계층의 계산 그래프</b>\n",
    "![fig4-10](dl2_images/fig4-10.png)\n",
    "$y$는 신경망이 출현한 확률, $t$는 정답 레이블 <br>\n",
    "역전파 부분 $y-t$<br>\n",
    "$\\quad$ 정답 레이블이 $1$이라면, $y$가 $1$에 가까워질 수록 오차가 줄어든다.<br>\n",
    "$\\quad$ 오차가 크면 크게 학습하고, 오차가 작으면 작게 학습<br>\n",
    "\n",
    "    예: you와 goodbye라는 맥락이 입력되었을 때 say가 타겟?\n",
    "         y         -        t\n",
    "        0.9               yes (1) = -0.1\n",
    "                          no  (0) = 0.9\n",
    "\n",
    "### <b>□ Negative sampling</b>                          \n",
    "    지금까지는 맥락을 입력했을 때 나오는 타겟에 대하여 정답에 해당하는 긍정적인 예만 확인\n",
    "        예 : 맥락 : you 와 goodbye, 타겟 : say\n",
    "       \n",
    "    그러면 네거티브(부정적 단어) 도 대상으로 해서 이진분류하는 학습을 해야하는데 say 외에 모든 다른 단어를 \n",
    "    다 학습 시키는것은 어휘수가 늘어나면 신경망이 감당을 할 수 없으니 근사적인 해법으로 부정적인 단어를 \n",
    "    샘플링하여 학습시키는것이 '네거티브 샘플링' 기법이 입니다. \n",
    "    \n",
    "#### <b>16.네거티브 샘플링의 오차함수는 오차를 어떻게 계산하는가?</b>\n",
    "![fig4-17](dl2_images/fig4-17.png)\n"
   ]
  },
  {
   "cell_type": "markdown",
   "metadata": {},
   "source": [
    "#### 17. 그러면 부정 단어는 어떻게 샘플링 하나요?\n",
    "![fig4-18](dl2_images/fig4-18.png)\n",
    "\n",
    "    말뭉치의 통계데이터를 기초로해서 자주 등장하는 단어를 많이 추출하고 드물게 등장하는 단어를 적게 추출해서 샘플링"
   ]
  },
  {
   "cell_type": "markdown",
   "metadata": {},
   "source": [
    "### ※ 문제13. (점심시간 문제) 네거티브 샘플링을 이해하기 위한 예제. 0~9 사이의 숫자중에 무작위로 하나 출력되게 하시오"
   ]
  },
  {
   "cell_type": "code",
   "execution_count": 1,
   "metadata": {
    "ExecuteTime": {
     "end_time": "2020-08-26T05:09:21.534807Z",
     "start_time": "2020-08-26T05:09:21.517817Z"
    }
   },
   "outputs": [
    {
     "name": "stdout",
     "output_type": "stream",
     "text": [
      "7\n"
     ]
    }
   ],
   "source": [
    "import numpy as np\n",
    "print(np.random.choice(10))"
   ]
  },
  {
   "cell_type": "markdown",
   "metadata": {},
   "source": [
    "### ※ 문제14. 아래의 words 리스트에서 단어 5개를 무작위로 샘플링하시오"
   ]
  },
  {
   "cell_type": "code",
   "execution_count": 3,
   "metadata": {
    "ExecuteTime": {
     "end_time": "2020-08-26T05:13:18.741948Z",
     "start_time": "2020-08-26T05:13:18.707969Z"
    }
   },
   "outputs": [
    {
     "name": "stdout",
     "output_type": "stream",
     "text": [
      "['goodbye' 'you' 'say' 'goodbye' 'I']\n"
     ]
    }
   ],
   "source": [
    "import numpy as np\n",
    "words = ['you','say','goodbye','I','.']\n",
    "\n",
    "print(np.random.choice(words,size=5))"
   ]
  },
  {
   "cell_type": "markdown",
   "metadata": {},
   "source": [
    "### ※ 문제15. 5개를 무작위로 추출하는데 중복없이 추출되게 하시오"
   ]
  },
  {
   "cell_type": "code",
   "execution_count": 4,
   "metadata": {
    "ExecuteTime": {
     "end_time": "2020-08-26T05:13:32.114016Z",
     "start_time": "2020-08-26T05:13:32.097026Z"
    }
   },
   "outputs": [
    {
     "name": "stdout",
     "output_type": "stream",
     "text": [
      "['goodbye' '.' 'you' 'say' 'I']\n"
     ]
    }
   ],
   "source": [
    "import numpy as np\n",
    "words = ['you','say','goodbye','I','.']\n",
    "\n",
    "print(np.random.choice(words,size=5, replace=False))"
   ]
  },
  {
   "cell_type": "markdown",
   "metadata": {},
   "source": [
    "### ※ 문제16. 아래의 확률 분포에 따라 샘플링되게 하시오"
   ]
  },
  {
   "cell_type": "code",
   "execution_count": 37,
   "metadata": {
    "ExecuteTime": {
     "end_time": "2020-08-26T05:17:05.654087Z",
     "start_time": "2020-08-26T05:17:05.648092Z"
    }
   },
   "outputs": [
    {
     "name": "stdout",
     "output_type": "stream",
     "text": [
      "['I' '.' 'you']\n"
     ]
    }
   ],
   "source": [
    "words = ['you', 'say', 'goodbye', 'I', 'hello', '.']\n",
    "p = [0.5, 0.1, 0.05, 0.2, 0.05, 0.1]\n",
    "\n",
    "print(np.random.choice(words, p=p, size=3, replace=False))"
   ]
  },
  {
   "cell_type": "markdown",
   "metadata": {},
   "source": [
    "### ※ 문제17. 책에서 네거티브 샘플링에서는 위의 확률에서 아래의 식 4.4를 따르라고 권고하고 있습니다. 확률이 낮은 단어의 확률을 살짝 높이려고 권고하고 있습니다. 테스트 해보세요\n",
    "![e4-4](dl2_images/e4-4.png)"
   ]
  },
  {
   "cell_type": "code",
   "execution_count": 38,
   "metadata": {
    "ExecuteTime": {
     "end_time": "2020-08-26T05:21:48.824376Z",
     "start_time": "2020-08-26T05:21:48.799390Z"
    }
   },
   "outputs": [
    {
     "name": "stdout",
     "output_type": "stream",
     "text": [
      "[0.64196878 0.33150408 0.02652714]\n"
     ]
    }
   ],
   "source": [
    "p = [0.7, 0.29, 0.01]\n",
    "new_p = np.power(p, 0.75)\n",
    "new_p /= np.sum(new_p)\n",
    "\n",
    "print(new_p)"
   ]
  },
  {
   "cell_type": "markdown",
   "metadata": {},
   "source": [
    "    수정 전 확률이 0.01인 원소가 수정 후에는 0.026으로 높아졌다.\n",
    "    이처럼 낮은 확률의 단어가 좀 더 쉽게 샘플링 되도록 하기 위한 조치로 0.75제곱 수행"
   ]
  },
  {
   "cell_type": "markdown",
   "metadata": {},
   "source": [
    "### ※ 문제18. 네거티브 샘플링하는 UnigramSampler 함수를 이용해서 샘플링 해보시오"
   ]
  },
  {
   "cell_type": "code",
   "execution_count": 41,
   "metadata": {
    "ExecuteTime": {
     "end_time": "2020-08-26T05:25:33.702294Z",
     "start_time": "2020-08-26T05:25:33.695297Z"
    }
   },
   "outputs": [
    {
     "name": "stdout",
     "output_type": "stream",
     "text": [
      "[[2 3]\n",
      " [1 0]\n",
      " [2 4]]\n"
     ]
    }
   ],
   "source": [
    "from ch04.negative_sampling_layer import UnigramSampler\n",
    "\n",
    "\n",
    "corpus = np.array([0, 1, 2, 3, 4, 1, 2, 3])\n",
    "power = 0.75\n",
    "sample_size = 2\n",
    "\n",
    "\n",
    "sampler = UnigramSampler(corpus, power, sample_size)\n",
    "target = np.array([1, 3, 0])\n",
    "negative_sample = sampler.get_negative_sample(target)\n",
    "\n",
    "print(negative_sample)"
   ]
  },
  {
   "cell_type": "markdown",
   "metadata": {},
   "source": [
    "## <b>4장 내용 정리</b>\n",
    "    CBOW 신경망을 큰 말뭉치를 넣을 수 있도록 개선\n",
    "    \n",
    "    2가지 방법\n",
    "        1. 입력층 --> 은닉층 \n",
    "                        embedding 계층 추가\n",
    "        2. 은닉층 --> 출력층, 오차함수 \n",
    "                        sigmoid 함수로 출력층 함수 변경\n",
    "                        negavtive sampling\n",
    "                                ↓\n",
    "                              cbow.py\n",
    "    \n",
    "    학습 시키는 코드 -> train.py"
   ]
  },
  {
   "cell_type": "code",
   "execution_count": null,
   "metadata": {},
   "outputs": [],
   "source": [
    "# coding: utf-8\n",
    "import sys\n",
    "sys.path.append('..')\n",
    "from common.np import *  # import numpy as np\n",
    "from common.layers import Embedding\n",
    "from ch04.negative_sampling_layer import NegativeSamplingLoss\n",
    "\n",
    "\n",
    "class CBOW:\n",
    "    def __init__(self, vocab_size, hidden_size, window_size, corpus):\n",
    "        V, H = vocab_size, hidden_size\n",
    "\n",
    "        # 가중치 초기화\n",
    "        W_in = 0.01 * np.random.randn(V, H).astype('f')\n",
    "        W_out = 0.01 * np.random.randn(V, H).astype('f')\n",
    "\n",
    "        # 계층 생성\n",
    "        self.in_layers = []\n",
    "        for i in range(2 * window_size):\n",
    "            layer = Embedding(W_in)  # Embedding 계층 사용\n",
    "            self.in_layers.append(layer)\n",
    "        self.ns_loss = NegativeSamplingLoss(W_out, corpus, power=0.75, sample_size=5)\n",
    "\n",
    "        # 모든 가중치와 기울기를 배열에 모은다.\n",
    "        layers = self.in_layers + [self.ns_loss]\n",
    "        self.params, self.grads = [], []\n",
    "        for layer in layers:\n",
    "            self.params += layer.params\n",
    "            self.grads += layer.grads\n",
    "\n",
    "        # 인스턴스 변수에 단어의 분산 표현을 저장한다.\n",
    "        self.word_vecs = W_in\n",
    "\n",
    "    def forward(self, contexts, target):\n",
    "        h = 0\n",
    "        for i, layer in enumerate(self.in_layers):\n",
    "            h += layer.forward(contexts[:, i])\n",
    "        h *= 1 / len(self.in_layers)\n",
    "        loss = self.ns_loss.forward(h, target)\n",
    "        return loss\n",
    "\n",
    "    def backward(self, dout=1):\n",
    "        dout = self.ns_loss.backward(dout)\n",
    "        dout *= 1 / len(self.in_layers)\n",
    "        for layer in self.in_layers:\n",
    "            layer.backward(dout)\n",
    "        return None"
   ]
  },
  {
   "cell_type": "code",
   "execution_count": 45,
   "metadata": {
    "ExecuteTime": {
     "end_time": "2020-08-26T06:14:36.278584Z",
     "start_time": "2020-08-26T06:08:51.714898Z"
    },
    "scrolled": true
   },
   "outputs": [
    {
     "name": "stdout",
     "output_type": "stream",
     "text": [
      "10000\n",
      "| 에폭 1 |  반복 1 / 9295 | 시간 0[s] | 손실 4.16\n",
      "| 에폭 1 |  반복 21 / 9295 | 시간 2[s] | 손실 4.16\n",
      "| 에폭 1 |  반복 41 / 9295 | 시간 4[s] | 손실 4.15\n",
      "| 에폭 1 |  반복 61 / 9295 | 시간 6[s] | 손실 4.12\n",
      "| 에폭 1 |  반복 81 / 9295 | 시간 8[s] | 손실 4.04\n",
      "| 에폭 1 |  반복 101 / 9295 | 시간 10[s] | 손실 3.92\n",
      "| 에폭 1 |  반복 121 / 9295 | 시간 12[s] | 손실 3.78\n",
      "| 에폭 1 |  반복 141 / 9295 | 시간 15[s] | 손실 3.62\n",
      "| 에폭 1 |  반복 161 / 9295 | 시간 17[s] | 손실 3.48\n",
      "| 에폭 1 |  반복 181 / 9295 | 시간 19[s] | 손실 3.36\n",
      "| 에폭 1 |  반복 201 / 9295 | 시간 21[s] | 손실 3.25\n",
      "| 에폭 1 |  반복 221 / 9295 | 시간 23[s] | 손실 3.18\n",
      "| 에폭 1 |  반복 241 / 9295 | 시간 25[s] | 손실 3.08\n",
      "| 에폭 1 |  반복 261 / 9295 | 시간 27[s] | 손실 3.00\n",
      "| 에폭 1 |  반복 281 / 9295 | 시간 29[s] | 손실 2.97\n",
      "| 에폭 1 |  반복 301 / 9295 | 시간 31[s] | 손실 2.93\n",
      "| 에폭 1 |  반복 321 / 9295 | 시간 32[s] | 손실 2.88\n",
      "| 에폭 1 |  반복 341 / 9295 | 시간 34[s] | 손실 2.84\n",
      "| 에폭 1 |  반복 361 / 9295 | 시간 36[s] | 손실 2.82\n",
      "| 에폭 1 |  반복 381 / 9295 | 시간 38[s] | 손실 2.79\n",
      "| 에폭 1 |  반복 401 / 9295 | 시간 40[s] | 손실 2.77\n",
      "| 에폭 1 |  반복 421 / 9295 | 시간 42[s] | 손실 2.76\n",
      "| 에폭 1 |  반복 441 / 9295 | 시간 44[s] | 손실 2.73\n",
      "| 에폭 1 |  반복 461 / 9295 | 시간 45[s] | 손실 2.71\n",
      "| 에폭 1 |  반복 481 / 9295 | 시간 47[s] | 손실 2.69\n",
      "| 에폭 1 |  반복 501 / 9295 | 시간 49[s] | 손실 2.67\n",
      "| 에폭 1 |  반복 521 / 9295 | 시간 51[s] | 손실 2.68\n",
      "| 에폭 1 |  반복 541 / 9295 | 시간 53[s] | 손실 2.67\n",
      "| 에폭 1 |  반복 561 / 9295 | 시간 55[s] | 손실 2.64\n",
      "| 에폭 1 |  반복 581 / 9295 | 시간 57[s] | 손실 2.65\n",
      "| 에폭 1 |  반복 601 / 9295 | 시간 58[s] | 손실 2.64\n",
      "| 에폭 1 |  반복 621 / 9295 | 시간 60[s] | 손실 2.63\n",
      "| 에폭 1 |  반복 641 / 9295 | 시간 62[s] | 손실 2.63\n",
      "| 에폭 1 |  반복 661 / 9295 | 시간 64[s] | 손실 2.63\n",
      "| 에폭 1 |  반복 681 / 9295 | 시간 66[s] | 손실 2.61\n",
      "| 에폭 1 |  반복 701 / 9295 | 시간 68[s] | 손실 2.58\n",
      "| 에폭 1 |  반복 721 / 9295 | 시간 70[s] | 손실 2.58\n",
      "| 에폭 1 |  반복 741 / 9295 | 시간 72[s] | 손실 2.61\n",
      "| 에폭 1 |  반복 761 / 9295 | 시간 74[s] | 손실 2.60\n",
      "| 에폭 1 |  반복 781 / 9295 | 시간 76[s] | 손실 2.60\n",
      "| 에폭 1 |  반복 801 / 9295 | 시간 78[s] | 손실 2.58\n",
      "| 에폭 1 |  반복 821 / 9295 | 시간 80[s] | 손실 2.58\n",
      "| 에폭 1 |  반복 841 / 9295 | 시간 82[s] | 손실 2.58\n",
      "| 에폭 1 |  반복 861 / 9295 | 시간 84[s] | 손실 2.59\n",
      "| 에폭 1 |  반복 881 / 9295 | 시간 86[s] | 손실 2.58\n",
      "| 에폭 1 |  반복 901 / 9295 | 시간 88[s] | 손실 2.59\n",
      "| 에폭 1 |  반복 921 / 9295 | 시간 90[s] | 손실 2.53\n",
      "| 에폭 1 |  반복 941 / 9295 | 시간 91[s] | 손실 2.53\n",
      "| 에폭 1 |  반복 961 / 9295 | 시간 93[s] | 손실 2.58\n",
      "| 에폭 1 |  반복 981 / 9295 | 시간 95[s] | 손실 2.57\n",
      "| 에폭 1 |  반복 1001 / 9295 | 시간 97[s] | 손실 2.55\n",
      "| 에폭 1 |  반복 1021 / 9295 | 시간 99[s] | 손실 2.54\n",
      "| 에폭 1 |  반복 1041 / 9295 | 시간 101[s] | 손실 2.57\n",
      "| 에폭 1 |  반복 1061 / 9295 | 시간 103[s] | 손실 2.56\n",
      "| 에폭 1 |  반복 1081 / 9295 | 시간 105[s] | 손실 2.53\n",
      "| 에폭 1 |  반복 1101 / 9295 | 시간 107[s] | 손실 2.56\n",
      "| 에폭 1 |  반복 1121 / 9295 | 시간 109[s] | 손실 2.54\n",
      "| 에폭 1 |  반복 1141 / 9295 | 시간 110[s] | 손실 2.57\n",
      "| 에폭 1 |  반복 1161 / 9295 | 시간 112[s] | 손실 2.56\n",
      "| 에폭 1 |  반복 1181 / 9295 | 시간 114[s] | 손실 2.55\n",
      "| 에폭 1 |  반복 1201 / 9295 | 시간 116[s] | 손실 2.53\n",
      "| 에폭 1 |  반복 1221 / 9295 | 시간 118[s] | 손실 2.56\n",
      "| 에폭 1 |  반복 1241 / 9295 | 시간 120[s] | 손실 2.54\n",
      "| 에폭 1 |  반복 1261 / 9295 | 시간 122[s] | 손실 2.52\n",
      "| 에폭 1 |  반복 1281 / 9295 | 시간 123[s] | 손실 2.51\n",
      "| 에폭 1 |  반복 1301 / 9295 | 시간 125[s] | 손실 2.55\n",
      "| 에폭 1 |  반복 1321 / 9295 | 시간 127[s] | 손실 2.51\n",
      "| 에폭 1 |  반복 1341 / 9295 | 시간 129[s] | 손실 2.55\n",
      "| 에폭 1 |  반복 1361 / 9295 | 시간 131[s] | 손실 2.54\n",
      "| 에폭 1 |  반복 1381 / 9295 | 시간 133[s] | 손실 2.52\n",
      "| 에폭 1 |  반복 1401 / 9295 | 시간 135[s] | 손실 2.48\n",
      "| 에폭 1 |  반복 1421 / 9295 | 시간 137[s] | 손실 2.52\n",
      "| 에폭 1 |  반복 1441 / 9295 | 시간 138[s] | 손실 2.51\n",
      "| 에폭 1 |  반복 1461 / 9295 | 시간 140[s] | 손실 2.51\n",
      "| 에폭 1 |  반복 1481 / 9295 | 시간 142[s] | 손실 2.51\n",
      "| 에폭 1 |  반복 1501 / 9295 | 시간 144[s] | 손실 2.50\n",
      "| 에폭 1 |  반복 1521 / 9295 | 시간 146[s] | 손실 2.49\n",
      "| 에폭 1 |  반복 1541 / 9295 | 시간 148[s] | 손실 2.52\n",
      "| 에폭 1 |  반복 1561 / 9295 | 시간 150[s] | 손실 2.53\n",
      "| 에폭 1 |  반복 1581 / 9295 | 시간 152[s] | 손실 2.51\n",
      "| 에폭 1 |  반복 1601 / 9295 | 시간 154[s] | 손실 2.49\n",
      "| 에폭 1 |  반복 1621 / 9295 | 시간 156[s] | 손실 2.53\n",
      "| 에폭 1 |  반복 1641 / 9295 | 시간 158[s] | 손실 2.51\n",
      "| 에폭 1 |  반복 1661 / 9295 | 시간 160[s] | 손실 2.51\n",
      "| 에폭 1 |  반복 1681 / 9295 | 시간 162[s] | 손실 2.49\n",
      "| 에폭 1 |  반복 1701 / 9295 | 시간 164[s] | 손실 2.49\n",
      "| 에폭 1 |  반복 1721 / 9295 | 시간 166[s] | 손실 2.48\n",
      "| 에폭 1 |  반복 1741 / 9295 | 시간 168[s] | 손실 2.51\n",
      "| 에폭 1 |  반복 1761 / 9295 | 시간 170[s] | 손실 2.49\n",
      "| 에폭 1 |  반복 1781 / 9295 | 시간 172[s] | 손실 2.49\n",
      "| 에폭 1 |  반복 1801 / 9295 | 시간 174[s] | 손실 2.53\n",
      "| 에폭 1 |  반복 1821 / 9295 | 시간 176[s] | 손실 2.47\n",
      "| 에폭 1 |  반복 1841 / 9295 | 시간 178[s] | 손실 2.47\n",
      "| 에폭 1 |  반복 1861 / 9295 | 시간 180[s] | 손실 2.48\n",
      "| 에폭 1 |  반복 1881 / 9295 | 시간 182[s] | 손실 2.51\n",
      "| 에폭 1 |  반복 1901 / 9295 | 시간 184[s] | 손실 2.48\n",
      "| 에폭 1 |  반복 1921 / 9295 | 시간 185[s] | 손실 2.48\n",
      "| 에폭 1 |  반복 1941 / 9295 | 시간 187[s] | 손실 2.48\n",
      "| 에폭 1 |  반복 1961 / 9295 | 시간 189[s] | 손실 2.47\n",
      "| 에폭 1 |  반복 1981 / 9295 | 시간 191[s] | 손실 2.52\n",
      "| 에폭 1 |  반복 2001 / 9295 | 시간 193[s] | 손실 2.48\n",
      "| 에폭 1 |  반복 2021 / 9295 | 시간 195[s] | 손실 2.48\n",
      "| 에폭 1 |  반복 2041 / 9295 | 시간 196[s] | 손실 2.50\n",
      "| 에폭 1 |  반복 2061 / 9295 | 시간 198[s] | 손실 2.51\n",
      "| 에폭 1 |  반복 2081 / 9295 | 시간 200[s] | 손실 2.50\n",
      "| 에폭 1 |  반복 2101 / 9295 | 시간 202[s] | 손실 2.51\n",
      "| 에폭 1 |  반복 2121 / 9295 | 시간 204[s] | 손실 2.47\n",
      "| 에폭 1 |  반복 2141 / 9295 | 시간 206[s] | 손실 2.51\n",
      "| 에폭 1 |  반복 2161 / 9295 | 시간 208[s] | 손실 2.48\n",
      "| 에폭 1 |  반복 2181 / 9295 | 시간 209[s] | 손실 2.50\n",
      "| 에폭 1 |  반복 2201 / 9295 | 시간 211[s] | 손실 2.49\n",
      "| 에폭 1 |  반복 2221 / 9295 | 시간 213[s] | 손실 2.49\n",
      "| 에폭 1 |  반복 2241 / 9295 | 시간 215[s] | 손실 2.46\n",
      "| 에폭 1 |  반복 2261 / 9295 | 시간 217[s] | 손실 2.48\n",
      "| 에폭 1 |  반복 2281 / 9295 | 시간 219[s] | 손실 2.47\n",
      "| 에폭 1 |  반복 2301 / 9295 | 시간 221[s] | 손실 2.47\n",
      "| 에폭 1 |  반복 2321 / 9295 | 시간 223[s] | 손실 2.45\n",
      "| 에폭 1 |  반복 2341 / 9295 | 시간 224[s] | 손실 2.49\n",
      "| 에폭 1 |  반복 2361 / 9295 | 시간 226[s] | 손실 2.49\n",
      "| 에폭 1 |  반복 2381 / 9295 | 시간 228[s] | 손실 2.48\n",
      "| 에폭 1 |  반복 2401 / 9295 | 시간 230[s] | 손실 2.46\n",
      "| 에폭 1 |  반복 2421 / 9295 | 시간 232[s] | 손실 2.44\n",
      "| 에폭 1 |  반복 2441 / 9295 | 시간 234[s] | 손실 2.48\n",
      "| 에폭 1 |  반복 2461 / 9295 | 시간 236[s] | 손실 2.49\n",
      "| 에폭 1 |  반복 2481 / 9295 | 시간 237[s] | 손실 2.49\n",
      "| 에폭 1 |  반복 2501 / 9295 | 시간 239[s] | 손실 2.50\n",
      "| 에폭 1 |  반복 2521 / 9295 | 시간 241[s] | 손실 2.45\n",
      "| 에폭 1 |  반복 2541 / 9295 | 시간 243[s] | 손실 2.44\n",
      "| 에폭 1 |  반복 2561 / 9295 | 시간 245[s] | 손실 2.45\n",
      "| 에폭 1 |  반복 2581 / 9295 | 시간 247[s] | 손실 2.48\n",
      "| 에폭 1 |  반복 2601 / 9295 | 시간 249[s] | 손실 2.48\n",
      "| 에폭 1 |  반복 2621 / 9295 | 시간 250[s] | 손실 2.48\n",
      "| 에폭 1 |  반복 2641 / 9295 | 시간 252[s] | 손실 2.48\n",
      "| 에폭 1 |  반복 2661 / 9295 | 시간 254[s] | 손실 2.46\n",
      "| 에폭 1 |  반복 2681 / 9295 | 시간 256[s] | 손실 2.45\n",
      "| 에폭 1 |  반복 2701 / 9295 | 시간 258[s] | 손실 2.48\n",
      "| 에폭 1 |  반복 2721 / 9295 | 시간 260[s] | 손실 2.45\n",
      "| 에폭 1 |  반복 2741 / 9295 | 시간 262[s] | 손실 2.46\n",
      "| 에폭 1 |  반복 2761 / 9295 | 시간 264[s] | 손실 2.47\n",
      "| 에폭 1 |  반복 2781 / 9295 | 시간 265[s] | 손실 2.45\n",
      "| 에폭 1 |  반복 2801 / 9295 | 시간 267[s] | 손실 2.42\n",
      "| 에폭 1 |  반복 2821 / 9295 | 시간 269[s] | 손실 2.46\n",
      "| 에폭 1 |  반복 2841 / 9295 | 시간 271[s] | 손실 2.45\n",
      "| 에폭 1 |  반복 2861 / 9295 | 시간 273[s] | 손실 2.49\n",
      "| 에폭 1 |  반복 2881 / 9295 | 시간 275[s] | 손실 2.45\n",
      "| 에폭 1 |  반복 2901 / 9295 | 시간 277[s] | 손실 2.48\n",
      "| 에폭 1 |  반복 2921 / 9295 | 시간 279[s] | 손실 2.48\n",
      "| 에폭 1 |  반복 2941 / 9295 | 시간 281[s] | 손실 2.46\n",
      "| 에폭 1 |  반복 2961 / 9295 | 시간 282[s] | 손실 2.44\n",
      "| 에폭 1 |  반복 2981 / 9295 | 시간 284[s] | 손실 2.46\n",
      "| 에폭 1 |  반복 3001 / 9295 | 시간 286[s] | 손실 2.47\n",
      "| 에폭 1 |  반복 3021 / 9295 | 시간 288[s] | 손실 2.47\n",
      "| 에폭 1 |  반복 3041 / 9295 | 시간 290[s] | 손실 2.45\n",
      "| 에폭 1 |  반복 3061 / 9295 | 시간 292[s] | 손실 2.45\n",
      "| 에폭 1 |  반복 3081 / 9295 | 시간 294[s] | 손실 2.44\n",
      "| 에폭 1 |  반복 3101 / 9295 | 시간 296[s] | 손실 2.44\n",
      "| 에폭 1 |  반복 3121 / 9295 | 시간 297[s] | 손실 2.44\n",
      "| 에폭 1 |  반복 3141 / 9295 | 시간 299[s] | 손실 2.45\n",
      "| 에폭 1 |  반복 3161 / 9295 | 시간 301[s] | 손실 2.45\n",
      "| 에폭 1 |  반복 3181 / 9295 | 시간 303[s] | 손실 2.45\n",
      "| 에폭 1 |  반복 3201 / 9295 | 시간 305[s] | 손실 2.48\n",
      "| 에폭 1 |  반복 3221 / 9295 | 시간 307[s] | 손실 2.43\n",
      "| 에폭 1 |  반복 3241 / 9295 | 시간 309[s] | 손실 2.41\n",
      "| 에폭 1 |  반복 3261 / 9295 | 시간 310[s] | 손실 2.43\n",
      "| 에폭 1 |  반복 3281 / 9295 | 시간 312[s] | 손실 2.43\n",
      "| 에폭 1 |  반복 3301 / 9295 | 시간 314[s] | 손실 2.41\n",
      "| 에폭 1 |  반복 3321 / 9295 | 시간 316[s] | 손실 2.47\n",
      "| 에폭 1 |  반복 3341 / 9295 | 시간 318[s] | 손실 2.42\n",
      "| 에폭 1 |  반복 3361 / 9295 | 시간 320[s] | 손실 2.44\n",
      "| 에폭 1 |  반복 3381 / 9295 | 시간 321[s] | 손실 2.44\n",
      "| 에폭 1 |  반복 3401 / 9295 | 시간 323[s] | 손실 2.43\n",
      "| 에폭 1 |  반복 3421 / 9295 | 시간 325[s] | 손실 2.43\n",
      "| 에폭 1 |  반복 3441 / 9295 | 시간 327[s] | 손실 2.45\n",
      "| 에폭 1 |  반복 3461 / 9295 | 시간 329[s] | 손실 2.44\n",
      "| 에폭 1 |  반복 3481 / 9295 | 시간 331[s] | 손실 2.45\n",
      "| 에폭 1 |  반복 3501 / 9295 | 시간 332[s] | 손실 2.39\n",
      "| 에폭 1 |  반복 3521 / 9295 | 시간 334[s] | 손실 2.45\n"
     ]
    },
    {
     "name": "stdout",
     "output_type": "stream",
     "text": [
      "| 에폭 1 |  반복 3541 / 9295 | 시간 336[s] | 손실 2.43\n"
     ]
    },
    {
     "ename": "KeyboardInterrupt",
     "evalue": "",
     "output_type": "error",
     "traceback": [
      "\u001b[1;31m---------------------------------------------------------------------------\u001b[0m",
      "\u001b[1;31mKeyboardInterrupt\u001b[0m                         Traceback (most recent call last)",
      "\u001b[1;32m<ipython-input-45-cc77039fe93d>\u001b[0m in \u001b[0;36m<module>\u001b[1;34m\u001b[0m\n\u001b[0;32m     39\u001b[0m \u001b[1;33m\u001b[0m\u001b[0m\n\u001b[0;32m     40\u001b[0m \u001b[1;31m# 학습 시작\u001b[0m\u001b[1;33m\u001b[0m\u001b[1;33m\u001b[0m\u001b[1;33m\u001b[0m\u001b[0m\n\u001b[1;32m---> 41\u001b[1;33m \u001b[0mtrainer\u001b[0m\u001b[1;33m.\u001b[0m\u001b[0mfit\u001b[0m\u001b[1;33m(\u001b[0m\u001b[0mcontexts\u001b[0m\u001b[1;33m,\u001b[0m \u001b[0mtarget\u001b[0m\u001b[1;33m,\u001b[0m \u001b[0mmax_epoch\u001b[0m\u001b[1;33m,\u001b[0m \u001b[0mbatch_size\u001b[0m\u001b[1;33m)\u001b[0m\u001b[1;33m\u001b[0m\u001b[1;33m\u001b[0m\u001b[0m\n\u001b[0m\u001b[0;32m     42\u001b[0m \u001b[0mtrainer\u001b[0m\u001b[1;33m.\u001b[0m\u001b[0mplot\u001b[0m\u001b[1;33m(\u001b[0m\u001b[1;33m)\u001b[0m\u001b[1;33m\u001b[0m\u001b[1;33m\u001b[0m\u001b[0m\n\u001b[0;32m     43\u001b[0m \u001b[1;33m\u001b[0m\u001b[0m\n",
      "\u001b[1;32mD:\\rnn\\common\\trainer.py\u001b[0m in \u001b[0;36mfit\u001b[1;34m(self, x, t, max_epoch, batch_size, max_grad, eval_interval)\u001b[0m\n\u001b[0;32m     42\u001b[0m                 \u001b[1;32mif\u001b[0m \u001b[0mmax_grad\u001b[0m \u001b[1;32mis\u001b[0m \u001b[1;32mnot\u001b[0m \u001b[1;32mNone\u001b[0m\u001b[1;33m:\u001b[0m\u001b[1;33m\u001b[0m\u001b[1;33m\u001b[0m\u001b[0m\n\u001b[0;32m     43\u001b[0m                     \u001b[0mclip_grads\u001b[0m\u001b[1;33m(\u001b[0m\u001b[0mgrads\u001b[0m\u001b[1;33m,\u001b[0m \u001b[0mmax_grad\u001b[0m\u001b[1;33m)\u001b[0m\u001b[1;33m\u001b[0m\u001b[1;33m\u001b[0m\u001b[0m\n\u001b[1;32m---> 44\u001b[1;33m                 \u001b[0moptimizer\u001b[0m\u001b[1;33m.\u001b[0m\u001b[0mupdate\u001b[0m\u001b[1;33m(\u001b[0m\u001b[0mparams\u001b[0m\u001b[1;33m,\u001b[0m \u001b[0mgrads\u001b[0m\u001b[1;33m)\u001b[0m\u001b[1;33m\u001b[0m\u001b[1;33m\u001b[0m\u001b[0m\n\u001b[0m\u001b[0;32m     45\u001b[0m                 \u001b[0mtotal_loss\u001b[0m \u001b[1;33m+=\u001b[0m \u001b[0mloss\u001b[0m\u001b[1;33m\u001b[0m\u001b[1;33m\u001b[0m\u001b[0m\n\u001b[0;32m     46\u001b[0m                 \u001b[0mloss_count\u001b[0m \u001b[1;33m+=\u001b[0m \u001b[1;36m1\u001b[0m\u001b[1;33m\u001b[0m\u001b[1;33m\u001b[0m\u001b[0m\n",
      "\u001b[1;32mD:\\rnn\\common\\optimizer.py\u001b[0m in \u001b[0;36mupdate\u001b[1;34m(self, params, grads)\u001b[0m\n\u001b[0;32m    123\u001b[0m \u001b[1;33m\u001b[0m\u001b[0m\n\u001b[0;32m    124\u001b[0m         \u001b[1;32mfor\u001b[0m \u001b[0mi\u001b[0m \u001b[1;32min\u001b[0m \u001b[0mrange\u001b[0m\u001b[1;33m(\u001b[0m\u001b[0mlen\u001b[0m\u001b[1;33m(\u001b[0m\u001b[0mparams\u001b[0m\u001b[1;33m)\u001b[0m\u001b[1;33m)\u001b[0m\u001b[1;33m:\u001b[0m\u001b[1;33m\u001b[0m\u001b[1;33m\u001b[0m\u001b[0m\n\u001b[1;32m--> 125\u001b[1;33m             \u001b[0mself\u001b[0m\u001b[1;33m.\u001b[0m\u001b[0mm\u001b[0m\u001b[1;33m[\u001b[0m\u001b[0mi\u001b[0m\u001b[1;33m]\u001b[0m \u001b[1;33m+=\u001b[0m \u001b[1;33m(\u001b[0m\u001b[1;36m1\u001b[0m \u001b[1;33m-\u001b[0m \u001b[0mself\u001b[0m\u001b[1;33m.\u001b[0m\u001b[0mbeta1\u001b[0m\u001b[1;33m)\u001b[0m \u001b[1;33m*\u001b[0m \u001b[1;33m(\u001b[0m\u001b[0mgrads\u001b[0m\u001b[1;33m[\u001b[0m\u001b[0mi\u001b[0m\u001b[1;33m]\u001b[0m \u001b[1;33m-\u001b[0m \u001b[0mself\u001b[0m\u001b[1;33m.\u001b[0m\u001b[0mm\u001b[0m\u001b[1;33m[\u001b[0m\u001b[0mi\u001b[0m\u001b[1;33m]\u001b[0m\u001b[1;33m)\u001b[0m\u001b[1;33m\u001b[0m\u001b[1;33m\u001b[0m\u001b[0m\n\u001b[0m\u001b[0;32m    126\u001b[0m             \u001b[0mself\u001b[0m\u001b[1;33m.\u001b[0m\u001b[0mv\u001b[0m\u001b[1;33m[\u001b[0m\u001b[0mi\u001b[0m\u001b[1;33m]\u001b[0m \u001b[1;33m+=\u001b[0m \u001b[1;33m(\u001b[0m\u001b[1;36m1\u001b[0m \u001b[1;33m-\u001b[0m \u001b[0mself\u001b[0m\u001b[1;33m.\u001b[0m\u001b[0mbeta2\u001b[0m\u001b[1;33m)\u001b[0m \u001b[1;33m*\u001b[0m \u001b[1;33m(\u001b[0m\u001b[0mgrads\u001b[0m\u001b[1;33m[\u001b[0m\u001b[0mi\u001b[0m\u001b[1;33m]\u001b[0m\u001b[1;33m**\u001b[0m\u001b[1;36m2\u001b[0m \u001b[1;33m-\u001b[0m \u001b[0mself\u001b[0m\u001b[1;33m.\u001b[0m\u001b[0mv\u001b[0m\u001b[1;33m[\u001b[0m\u001b[0mi\u001b[0m\u001b[1;33m]\u001b[0m\u001b[1;33m)\u001b[0m\u001b[1;33m\u001b[0m\u001b[1;33m\u001b[0m\u001b[0m\n\u001b[0;32m    127\u001b[0m \u001b[1;33m\u001b[0m\u001b[0m\n",
      "\u001b[1;31mKeyboardInterrupt\u001b[0m: "
     ]
    }
   ],
   "source": [
    "# coding: utf-8\n",
    "import sys\n",
    "sys.path.append('..')\n",
    "import numpy as np\n",
    "from common import config\n",
    "# GPU에서 실행하려면 아래 주석을 해제하세요(CuPy 필요).\n",
    "# ===============================================\n",
    "# config.GPU = True\n",
    "# ===============================================\n",
    "import pickle\n",
    "from common.trainer import Trainer\n",
    "from common.optimizer import Adam\n",
    "from ch04.cbow import CBOW\n",
    "from ch04.skip_gram import SkipGram\n",
    "from common.util import create_contexts_target, to_cpu, to_gpu\n",
    "from dataset import ptb\n",
    "\n",
    "\n",
    "# 하이퍼파라미터 설정\n",
    "window_size = 5\n",
    "hidden_size = 100\n",
    "batch_size = 100\n",
    "max_epoch = 10\n",
    "\n",
    "# 데이터 읽기\n",
    "corpus, word_to_id, id_to_word = ptb.load_data('train')\n",
    "vocab_size = len(word_to_id)\n",
    "print(vocab_size)\n",
    "\n",
    "contexts, target = create_contexts_target(corpus, window_size)\n",
    "if config.GPU:\n",
    "    contexts, target = to_gpu(contexts), to_gpu(target)\n",
    "\n",
    "# 모델 등 생성 (개선된 CBOW 생성)\n",
    "model = CBOW(vocab_size, hidden_size, window_size, corpus)\n",
    "# model = SkipGram(vocab_size, hidden_size, window_size, corpus)\n",
    "optimizer = Adam()\n",
    "trainer = Trainer(model, optimizer)\n",
    "\n",
    "# 학습 시작\n",
    "trainer.fit(contexts, target, max_epoch, batch_size)\n",
    "trainer.plot()\n",
    "\n",
    "# 나중에 사용할 수 있도록 필요한 데이터 저장\n",
    "word_vecs = model.word_vecs\n",
    "if config.GPU:\n",
    "    word_vecs = to_cpu(word_vecs)\n",
    "params = {}\n",
    "params['word_vecs'] = word_vecs.astype(np.float16)\n",
    "params['word_to_id'] = word_to_id\n",
    "params['id_to_word'] = id_to_word\n",
    "pkl_file = 'cbow_params.pkl'  # or 'skipgram_params.pkl'\n",
    "with open(pkl_file, 'wb') as f:\n",
    "    pickle.dump(params, f, -1)"
   ]
  },
  {
   "cell_type": "markdown",
   "metadata": {},
   "source": [
    "### ※ 문제20. 큰 말뭉치를 CBOW 신경망에 넣어서 완성한 pickle파일을 로드하고 model에서 입력층의 가중치를 불러와서 you와 유사한 단어 top 5를 출력하시오"
   ]
  },
  {
   "cell_type": "code",
   "execution_count": 51,
   "metadata": {
    "ExecuteTime": {
     "end_time": "2020-08-26T06:17:01.272296Z",
     "start_time": "2020-08-26T06:17:00.736625Z"
    }
   },
   "outputs": [
    {
     "name": "stdout",
     "output_type": "stream",
     "text": [
      "\n",
      "[query] you\n",
      " we: 0.6103515625\n",
      " someone: 0.59130859375\n",
      " i: 0.55419921875\n",
      " something: 0.48974609375\n",
      " anyone: 0.47314453125\n"
     ]
    }
   ],
   "source": [
    "# coding: utf-8\n",
    "import sys\n",
    "sys.path.append('..')\n",
    "from common.util import most_similar, analogy\n",
    "import pickle\n",
    "\n",
    "\n",
    "pkl_file = 'cbow_params.pkl'\n",
    "# pkl_file = 'skipgram_params.pkl'\n",
    "\n",
    "with open(pkl_file, 'rb') as f:\n",
    "    params = pickle.load(f)\n",
    "    word_vecs = params['word_vecs']\n",
    "    word_to_id = params['word_to_id']\n",
    "    id_to_word = params['id_to_word']\n",
    "\n",
    "most_similar('you', word_to_id, id_to_word, word_vecs, top=5)"
   ]
  },
  {
   "cell_type": "markdown",
   "metadata": {},
   "source": [
    "### 문제21. year와 가까운 의미의 단어가 무엇인지 top3를 출력하시오"
   ]
  },
  {
   "cell_type": "code",
   "execution_count": 52,
   "metadata": {
    "ExecuteTime": {
     "end_time": "2020-08-26T06:17:05.309706Z",
     "start_time": "2020-08-26T06:17:04.827004Z"
    }
   },
   "outputs": [
    {
     "name": "stdout",
     "output_type": "stream",
     "text": [
      "\n",
      "[query] year\n",
      " month: 0.71875\n",
      " week: 0.65234375\n",
      " spring: 0.62744140625\n",
      " summer: 0.6259765625\n",
      " decade: 0.603515625\n"
     ]
    }
   ],
   "source": [
    "# coding: utf-8\n",
    "import sys\n",
    "sys.path.append('..')\n",
    "from common.util import most_similar, analogy\n",
    "import pickle\n",
    "\n",
    "\n",
    "pkl_file = 'cbow_params.pkl'\n",
    "# pkl_file = 'skipgram_params.pkl'\n",
    "\n",
    "with open(pkl_file, 'rb') as f:\n",
    "    params = pickle.load(f)\n",
    "    word_vecs = params['word_vecs']\n",
    "    word_to_id = params['word_to_id']\n",
    "    id_to_word = params['id_to_word']\n",
    "\n",
    "most_similar('year', word_to_id, id_to_word, word_vecs, top=5)"
   ]
  },
  {
   "cell_type": "markdown",
   "metadata": {},
   "source": [
    "### ※ 문제22. anology 함수를 이용해서 CBOW 신경망의 밀집벡터를 가지고 단어의 유추문제를 푸시오"
   ]
  },
  {
   "cell_type": "code",
   "execution_count": 53,
   "metadata": {
    "ExecuteTime": {
     "end_time": "2020-08-26T06:18:14.119415Z",
     "start_time": "2020-08-26T06:18:12.208586Z"
    }
   },
   "outputs": [
    {
     "name": "stdout",
     "output_type": "stream",
     "text": [
      "\n",
      "[query] you\n",
      " we: 0.6103515625\n",
      " someone: 0.59130859375\n",
      " i: 0.55419921875\n",
      " something: 0.48974609375\n",
      " anyone: 0.47314453125\n",
      "\n",
      "[query] year\n",
      " month: 0.71875\n",
      " week: 0.65234375\n",
      " spring: 0.62744140625\n",
      " summer: 0.6259765625\n",
      " decade: 0.603515625\n",
      "\n",
      "[query] car\n",
      " luxury: 0.497314453125\n",
      " arabia: 0.47802734375\n",
      " auto: 0.47119140625\n",
      " disk-drive: 0.450927734375\n",
      " travel: 0.4091796875\n",
      "\n",
      "[query] toyota\n",
      " ford: 0.55078125\n",
      " instrumentation: 0.509765625\n",
      " mazda: 0.49365234375\n",
      " bethlehem: 0.47509765625\n",
      " nissan: 0.474853515625\n",
      "--------------------------------------------------\n",
      "\n",
      "[analogy] king:man = queen:?\n",
      " woman: 5.16015625\n",
      " veto: 4.9296875\n",
      " ounce: 4.69140625\n",
      " earthquake: 4.6328125\n",
      " successor: 4.609375\n",
      "\n",
      "[analogy] take:took = go:?\n",
      " went: 4.55078125\n",
      " points: 4.25\n",
      " began: 4.09375\n",
      " comes: 3.98046875\n",
      " oct.: 3.90625\n",
      "\n",
      "[analogy] car:cars = child:?\n",
      " children: 5.21875\n",
      " average: 4.7265625\n",
      " yield: 4.20703125\n",
      " cattle: 4.1875\n",
      " priced: 4.1796875\n",
      "\n",
      "[analogy] good:better = bad:?\n",
      " more: 6.6484375\n",
      " less: 6.0625\n",
      " rather: 5.21875\n",
      " slower: 4.734375\n",
      " greater: 4.671875\n"
     ]
    }
   ],
   "source": [
    "# coding: utf-8\n",
    "import sys\n",
    "sys.path.append('..')\n",
    "from common.util import most_similar, analogy\n",
    "import pickle\n",
    "\n",
    "\n",
    "pkl_file = 'cbow_params.pkl'\n",
    "# pkl_file = 'skipgram_params.pkl'\n",
    "\n",
    "with open(pkl_file, 'rb') as f:\n",
    "    params = pickle.load(f)\n",
    "    word_vecs = params['word_vecs']\n",
    "    word_to_id = params['word_to_id']\n",
    "    id_to_word = params['id_to_word']\n",
    "\n",
    "querys = ['you', 'year', 'car', 'toyota']\n",
    "for query in querys:\n",
    "    most_similar(query, word_to_id, id_to_word, word_vecs, top=5)\n",
    "\n",
    "# 유추(analogy) 작업\n",
    "print('-'*50)\n",
    "analogy('king', 'man', 'queen',  word_to_id, id_to_word, word_vecs)\n",
    "analogy('take', 'took', 'go',  word_to_id, id_to_word, word_vecs)\n",
    "analogy('car', 'cars', 'child',  word_to_id, id_to_word, word_vecs)\n",
    "analogy('good', 'better', 'bad',  word_to_id, id_to_word, word_vecs)\n"
   ]
  },
  {
   "cell_type": "markdown",
   "metadata": {},
   "source": [
    "### ※ 문제23. do의 과거동사를 맞출 수 있는지 확인하시오"
   ]
  },
  {
   "cell_type": "code",
   "execution_count": 61,
   "metadata": {
    "ExecuteTime": {
     "end_time": "2020-08-26T06:25:26.286501Z",
     "start_time": "2020-08-26T06:25:26.264515Z"
    }
   },
   "outputs": [
    {
     "name": "stdout",
     "output_type": "stream",
     "text": [
      "--------------------------------------------------\n",
      "\n",
      "[analogy] take:took = do:?\n",
      " ca: 7.89453125\n",
      " does: 7.24609375\n",
      " did: 7.0625\n",
      " wo: 6.7578125\n",
      " could: 6.15234375\n"
     ]
    }
   ],
   "source": [
    "# coding: utf-8\n",
    "import sys\n",
    "sys.path.append('..')\n",
    "from common.util import most_similar, analogy\n",
    "import pickle\n",
    "\n",
    "\n",
    "pkl_file = 'cbow_params.pkl'\n",
    "# pkl_file = 'skipgram_params.pkl'\n",
    "\n",
    "with open(pkl_file, 'rb') as f:\n",
    "    params = pickle.load(f)\n",
    "    word_vecs = params['word_vecs']\n",
    "    word_to_id = params['word_to_id']\n",
    "    id_to_word = params['id_to_word']\n",
    "\n",
    "# 유추(analogy) 작업\n",
    "print('-'*50)\n",
    "analogy('take', 'took', 'do',  word_to_id, id_to_word, word_vecs)"
   ]
  },
  {
   "cell_type": "markdown",
   "metadata": {},
   "source": [
    "### ※ 문제24. 넣고 싶은 것을 넣고 테스트 하시오"
   ]
  },
  {
   "cell_type": "code",
   "execution_count": 64,
   "metadata": {
    "ExecuteTime": {
     "end_time": "2020-08-26T06:26:01.401059Z",
     "start_time": "2020-08-26T06:26:01.378074Z"
    }
   },
   "outputs": [
    {
     "name": "stdout",
     "output_type": "stream",
     "text": [
      "--------------------------------------------------\n",
      "\n",
      "[analogy] he:has = i:?\n",
      " had: 5.91796875\n",
      " 've: 5.6953125\n",
      " have: 4.734375\n",
      " was: 4.203125\n",
      " does: 4.16015625\n"
     ]
    }
   ],
   "source": [
    "# coding: utf-8\n",
    "import sys\n",
    "sys.path.append('..')\n",
    "from common.util import most_similar, analogy\n",
    "import pickle\n",
    "\n",
    "\n",
    "pkl_file = 'cbow_params.pkl'\n",
    "# pkl_file = 'skipgram_params.pkl'\n",
    "\n",
    "with open(pkl_file, 'rb') as f:\n",
    "    params = pickle.load(f)\n",
    "    word_vecs = params['word_vecs']\n",
    "    word_to_id = params['word_to_id']\n",
    "    id_to_word = params['id_to_word']\n",
    "\n",
    "# 유추(analogy) 작업\n",
    "print('-'*50)\n",
    "analogy('he', 'has', 'i',  word_to_id, id_to_word, word_vecs)"
   ]
  },
  {
   "cell_type": "markdown",
   "metadata": {},
   "source": [
    "    정리 P.189\n",
    "        1. 모델에 따라 정확도가 다르다.\n",
    "        2. 일반적으로 말뭉치가 클 수록 결과가 좋다.\n",
    "        3. 단어 벡터 차원수는 적당한 크기가 좋다. (너무 커도 정확도가 나쁘다)\n",
    "    \n",
    "    유추 문제를 이용하면 벡터의 덧셈과 뺄셈 문제를 풀 수 있다.\n",
    "        king - man = women = ?"
   ]
  },
  {
   "cell_type": "code",
   "execution_count": null,
   "metadata": {},
   "outputs": [],
   "source": []
  },
  {
   "cell_type": "code",
   "execution_count": null,
   "metadata": {},
   "outputs": [],
   "source": []
  },
  {
   "cell_type": "code",
   "execution_count": null,
   "metadata": {},
   "outputs": [],
   "source": []
  },
  {
   "cell_type": "code",
   "execution_count": null,
   "metadata": {},
   "outputs": [],
   "source": []
  }
 ],
 "metadata": {
  "kernelspec": {
   "display_name": "Python 3",
   "language": "python",
   "name": "python3"
  },
  "language_info": {
   "codemirror_mode": {
    "name": "ipython",
    "version": 3
   },
   "file_extension": ".py",
   "mimetype": "text/x-python",
   "name": "python",
   "nbconvert_exporter": "python",
   "pygments_lexer": "ipython3",
   "version": "3.7.6"
  },
  "toc": {
   "base_numbering": 1,
   "nav_menu": {},
   "number_sections": true,
   "sideBar": true,
   "skip_h1_title": false,
   "title_cell": "Table of Contents",
   "title_sidebar": "Contents",
   "toc_cell": false,
   "toc_position": {},
   "toc_section_display": true,
   "toc_window_display": false
  },
  "varInspector": {
   "cols": {
    "lenName": 16,
    "lenType": 16,
    "lenVar": 40
   },
   "kernels_config": {
    "python": {
     "delete_cmd_postfix": "",
     "delete_cmd_prefix": "del ",
     "library": "var_list.py",
     "varRefreshCmd": "print(var_dic_list())"
    },
    "r": {
     "delete_cmd_postfix": ") ",
     "delete_cmd_prefix": "rm(",
     "library": "var_list.r",
     "varRefreshCmd": "cat(var_dic_list()) "
    }
   },
   "types_to_exclude": [
    "module",
    "function",
    "builtin_function_or_method",
    "instance",
    "_Feature"
   ],
   "window_display": false
  }
 },
 "nbformat": 4,
 "nbformat_minor": 4
}
